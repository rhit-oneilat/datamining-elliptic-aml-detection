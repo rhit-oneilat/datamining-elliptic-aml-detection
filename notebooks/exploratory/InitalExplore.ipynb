{
 "cells": [
  {
   "cell_type": "code",
   "execution_count": 1,
   "id": "508da2cc",
   "metadata": {
    "_cell_guid": "b1076dfc-b9ad-4769-8c92-a6c4dae69d19",
    "_uuid": "8f2839f25d086af736a60e9eeb907d3b93b6e0e5",
    "execution": {
     "iopub.execute_input": "2025-01-13T19:13:09.624779Z",
     "iopub.status.busy": "2025-01-13T19:13:09.624238Z",
     "iopub.status.idle": "2025-01-13T19:13:12.742179Z",
     "shell.execute_reply": "2025-01-13T19:13:12.740655Z"
    },
    "papermill": {
     "duration": 3.124508,
     "end_time": "2025-01-13T19:13:12.744279",
     "exception": false,
     "start_time": "2025-01-13T19:13:09.619771",
     "status": "completed"
    },
    "tags": []
   },
   "outputs": [],
   "source": [
    "# Utility imports\n",
    "import numpy as np\n",
    "import pandas as pd \n",
    "\n",
    "# Graph theory imports\n",
    "import networkx as nx\n",
    "\n",
    "# Visualization imports\n",
    "import seaborn as sns\n",
    "import matplotlib.pyplot as plt\n",
    "import plotly.graph_objects as go\n",
    "from plotly.subplots import make_subplots\n"
   ]
  },
  {
   "cell_type": "code",
   "execution_count": 2,
   "id": "f8213483",
   "metadata": {
    "execution": {
     "iopub.execute_input": "2025-01-13T19:13:12.751810Z",
     "iopub.status.busy": "2025-01-13T19:13:12.750986Z",
     "iopub.status.idle": "2025-01-13T19:13:33.033583Z",
     "shell.execute_reply": "2025-01-13T19:13:33.032152Z"
    },
    "papermill": {
     "duration": 20.289012,
     "end_time": "2025-01-13T19:13:33.036240",
     "exception": false,
     "start_time": "2025-01-13T19:13:12.747228",
     "status": "completed"
    },
    "tags": []
   },
   "outputs": [],
   "source": [
    "class_df = pd.read_csv(\"elliptic_txs_classes.csv\")\n",
    "edge_df = pd.read_csv(\"elliptic_txs_edgelist.csv\")\n",
    "feature_df = pd.read_csv(\"elliptic_txs_features.csv\", header=None)"
   ]
  },
  {
   "cell_type": "code",
   "execution_count": null,
   "id": "8f077775",
   "metadata": {},
   "outputs": [],
   "source": [
    "class_counts = class_df['class'].value_counts()\n",
    "print(class_counts)"
   ]
  },
  {
   "cell_type": "code",
   "execution_count": null,
   "id": "4f1caac0",
   "metadata": {},
   "outputs": [],
   "source": [
    "class_1_count = len(class_df[class_df['class'] == \"1\"])\n",
    "print(class_1_count)  # Should print 4545"
   ]
  },
  {
   "cell_type": "code",
   "execution_count": null,
   "id": "b19f0682",
   "metadata": {
    "execution": {
     "iopub.execute_input": "2025-01-13T19:13:33.043064Z",
     "iopub.status.busy": "2025-01-13T19:13:33.042635Z",
     "iopub.status.idle": "2025-01-13T19:13:33.101433Z",
     "shell.execute_reply": "2025-01-13T19:13:33.099842Z"
    },
    "papermill": {
     "duration": 0.064368,
     "end_time": "2025-01-13T19:13:33.103419",
     "exception": false,
     "start_time": "2025-01-13T19:13:33.039051",
     "status": "completed"
    },
    "tags": []
   },
   "outputs": [],
   "source": [
    "class_df.info()\n",
    "print(\"\\n\\n\")\n",
    "edge_df.info()\n",
    "print(\"\\n\\n\")\n",
    "feature_df.info()"
   ]
  },
  {
   "cell_type": "code",
   "execution_count": 6,
   "id": "1cd09974",
   "metadata": {
    "execution": {
     "iopub.execute_input": "2025-01-13T19:13:33.110714Z",
     "iopub.status.busy": "2025-01-13T19:13:33.110324Z",
     "iopub.status.idle": "2025-01-13T19:13:33.376987Z",
     "shell.execute_reply": "2025-01-13T19:13:33.375945Z"
    },
    "papermill": {
     "duration": 0.272738,
     "end_time": "2025-01-13T19:13:33.379376",
     "exception": false,
     "start_time": "2025-01-13T19:13:33.106638",
     "status": "completed"
    },
    "tags": []
   },
   "outputs": [],
   "source": [
    "# Rename the columns of feature_df\n",
    "feature_df.columns = ['txID'] + [f'feature_{i}' for i in range(1, len(feature_df.columns))]\n",
    "\n",
    "# Rename the columns of class_df\n",
    "class_df.columns = ['txID'] + ['class']\n",
    "\n",
    "# Convert txID to integer\n",
    "class_df['txID'] = pd.to_numeric(class_df['txID'])\n",
    "feature_df['txID'] = pd.to_numeric(feature_df['txID'])\n",
    "\n",
    "# Merge the class and feature DataFrames\n",
    "merged_df = pd.merge(class_df, feature_df, on='txID')"
   ]
  },
  {
   "cell_type": "code",
   "execution_count": null,
   "id": "6fd8c06f",
   "metadata": {},
   "outputs": [],
   "source": [
    "# Feature correlation analysis\n",
    "corr_matrix = feature_df.corr()\n",
    "\n",
    "# Plot correlation matrix using Plotly\n",
    "fig = go.Figure(data=go.Heatmap(z=corr_matrix.values, x=corr_matrix.columns, y=corr_matrix.index, colorscale='Viridis'))\n",
    "fig.update_layout(title='Feature Correlation Matrix')\n",
    "fig.show()"
   ]
  },
  {
   "cell_type": "code",
   "execution_count": null,
   "id": "9801751f",
   "metadata": {
    "execution": {
     "iopub.execute_input": "2025-01-13T19:13:33.613316Z",
     "iopub.status.busy": "2025-01-13T19:13:33.612654Z",
     "iopub.status.idle": "2025-01-13T19:17:18.174251Z",
     "shell.execute_reply": "2025-01-13T19:17:18.173013Z"
    },
    "papermill": {
     "duration": 225.089524,
     "end_time": "2025-01-13T19:17:18.692990",
     "exception": false,
     "start_time": "2025-01-13T19:13:33.603466",
     "status": "completed"
    },
    "tags": []
   },
   "outputs": [],
   "source": [
    "\n",
    "\n",
    "# Network analysis (subset of nodes and edges)\n",
    "G = nx.Graph()\n",
    "G.add_edges_from(edge_df.values[:1000])  # Select first 1000 edges\n",
    "\n",
    "# Calculate network metrics\n",
    "degree_centrality = nx.degree_centrality(G)\n",
    "betweenness_centrality = nx.betweenness_centrality(G)\n",
    "closeness_centrality = nx.closeness_centrality(G)\n",
    "\n",
    "# Plot network metrics using Plotly\n",
    "fig = make_subplots(rows=1, cols=3, subplot_titles=['Degree Centrality', 'Betweenness Centrality', 'Closeness Centrality'])\n",
    "fig.add_trace(go.Histogram(x=list(degree_centrality.values()), nbinsx=50), row=1, col=1)\n",
    "fig.add_trace(go.Histogram(x=list(betweenness_centrality.values()), nbinsx=50), row=1, col=2)\n",
    "fig.add_trace(go.Histogram(x=list(closeness_centrality.values()), nbinsx=50), row=1, col=3)\n",
    "fig.update_layout(height=600, width=1200)\n",
    "fig.show()\n",
    "\n",
    "# Plot network structure using Plotly\n",
    "pos = nx.spring_layout(G)\n",
    "node_x = [pos[node][0] for node in G.nodes()]\n",
    "node_y = [pos[node][1] for node in G.nodes()]\n",
    "edge_x = []\n",
    "edge_y = []\n",
    "for edge in G.edges():\n",
    "    source, target = edge\n",
    "    x0, y0 = pos[source]\n",
    "    x1, y1 = pos[target]\n",
    "    edge_x.append(x0)\n",
    "    edge_x.append(x1)\n",
    "    edge_x.append(None)\n",
    "    edge_y.append(y0)\n",
    "    edge_y.append(y1)\n",
    "    edge_y.append(None)\n",
    "\n",
    "fig = go.Figure(data=[go.Scatter(x=edge_x, y=edge_y, mode='lines', line_shape='spline', opacity=0.5, hoverinfo='none'),\n",
    "                      go.Scatter(x=node_x, y=node_y, mode='markers', hoverinfo='text', hovertext=[node for node in G.nodes()])])\n",
    "fig.update_layout(title='Network Structure', showlegend=False, hovermode='x', margin=dict(b=20, l=5, r=5, t=40), xaxis=dict(showgrid=False, zeroline=False, showticklabels=False), yaxis=dict(showgrid=False, zeroline=False, showticklabels=False))\n",
    "fig.show()"
   ]
  },
  {
   "cell_type": "code",
   "execution_count": null,
   "id": "dff55661",
   "metadata": {},
   "outputs": [],
   "source": []
  },
  {
   "cell_type": "code",
   "execution_count": null,
   "id": "2af5023f",
   "metadata": {},
   "outputs": [],
   "source": [
    "# Get list of class 1 nodes \n",
    "class_1_nodes = set(merged_df[merged_df['class'] == \"1\"]['txID'])\n",
    "\n",
    "# Create full graph first without limiting edges\n",
    "G = nx.Graph()\n",
    "G.add_edges_from(edge_df.values)  # Remove the [:5000] slice\n",
    "\n",
    "# Create subgraph with only class 1 nodes and their edges\n",
    "class_1_edges = [(source, target) for source, target in G.edges()\n",
    "                 if source in class_1_nodes and target in class_1_nodes]\n",
    "\n",
    "# Print some info to understand our data better\n",
    "print(f\"Total number of class 1 nodes: {len(class_1_nodes)}\")\n",
    "print(f\"Total number of edges in full graph: {len(G.edges())}\")\n",
    "print(f\"Number of edges between class 1 nodes: {len(class_1_edges)}\")"
   ]
  },
  {
   "cell_type": "code",
   "execution_count": null,
   "id": "a6065ce3",
   "metadata": {},
   "outputs": [],
   "source": [
    "# Get list of class 1 nodes \n",
    "class_1_nodes = set(merged_df[merged_df['class'] == \"1\"]['txID'])\n",
    "\n",
    "# Create full graph first\n",
    "G = nx.Graph()\n",
    "G.add_edges_from(edge_df.values)\n",
    "\n",
    "# Create subgraph with only class 1 nodes and their edges\n",
    "class_1_edges = [(source, target) for source, target in G.edges()\n",
    "                 if source in class_1_nodes and target in class_1_nodes]\n",
    "G_class_1 = nx.Graph()\n",
    "G_class_1.add_edges_from(class_1_edges)\n",
    "\n",
    "# Calculate network metrics for class 1 subgraph\n",
    "degree_centrality = nx.degree_centrality(G_class_1)\n",
    "betweenness_centrality = nx.betweenness_centrality(G_class_1)\n",
    "closeness_centrality = nx.closeness_centrality(G_class_1)\n",
    "\n",
    "# Plot network metrics using Plotly\n",
    "fig = make_subplots(rows=1, cols=3, \n",
    "                    subplot_titles=['Degree Centrality (Class 1)', \n",
    "                                  'Betweenness Centrality (Class 1)', \n",
    "                                  'Closeness Centrality (Class 1)'])\n",
    "\n",
    "fig.add_trace(go.Histogram(x=list(degree_centrality.values()), nbinsx=50), row=1, col=1)\n",
    "fig.add_trace(go.Histogram(x=list(betweenness_centrality.values()), nbinsx=50), row=1, col=2)\n",
    "fig.add_trace(go.Histogram(x=list(closeness_centrality.values()), nbinsx=50), row=1, col=3)\n",
    "fig.update_layout(height=600, width=1200, title_text=\"Network Metrics for Class 1 Nodes\")\n",
    "fig.show()\n",
    "\n",
    "# Plot network structure using Plotly\n",
    "pos = nx.spring_layout(G_class_1, k=1, iterations=50)  # Adjusted layout parameters\n",
    "node_x = [pos[node][0] for node in G_class_1.nodes()]\n",
    "node_y = [pos[node][1] for node in G_class_1.nodes()]\n",
    "edge_x = []\n",
    "edge_y = []\n",
    "\n",
    "for edge in G_class_1.edges():\n",
    "    source, target = edge\n",
    "    x0, y0 = pos[source]\n",
    "    x1, y1 = pos[target]\n",
    "    edge_x.extend([x0, x1, None])\n",
    "    edge_y.extend([y0, y1, None])\n",
    "\n",
    "# Create the network visualization\n",
    "fig = go.Figure(data=[\n",
    "    go.Scatter(x=edge_x, y=edge_y, mode='lines', line_shape='spline', \n",
    "              opacity=0.3, hoverinfo='none', name='Edges',\n",
    "              line=dict(color='gray', width=0.5)),\n",
    "    go.Scatter(x=node_x, y=node_y, mode='markers', \n",
    "              hoverinfo='text', hovertext=[str(node) for node in G_class_1.nodes()],\n",
    "              marker=dict(size=5, color='red'), name='Nodes')\n",
    "])\n",
    "\n",
    "fig.update_layout(\n",
    "    title='Network Structure - Class 1 Nodes Only',\n",
    "    showlegend=True,\n",
    "    hovermode='closest',\n",
    "    margin=dict(b=20, l=5, r=5, t=40),\n",
    "    xaxis=dict(showgrid=False, zeroline=False, showticklabels=False),\n",
    "    yaxis=dict(showgrid=False, zeroline=False, showticklabels=False)\n",
    ")\n",
    "fig.show()\n",
    "\n",
    "# Print summary statistics\n",
    "print(f\"Number of Class 1 nodes in network: {len(G_class_1.nodes())}\")\n",
    "print(f\"Number of edges between Class 1 nodes: {len(G_class_1.edges())}\")\n",
    "\n",
    "# Calculate additional network metrics\n",
    "connected_components = list(nx.connected_components(G_class_1))\n",
    "print(f\"Number of connected components: {len(connected_components)}\")\n",
    "print(f\"Size of largest connected component: {len(max(connected_components, key=len))}\")"
   ]
  },
  {
   "cell_type": "code",
   "execution_count": null,
   "id": "3b45a94c",
   "metadata": {},
   "outputs": [],
   "source": [
    "# Get list of class 1 nodes\n",
    "class_1_nodes = set(merged_df[merged_df['class'] == \"1\"]['txID'])\n",
    "\n",
    "# Create full graph first\n",
    "G = nx.Graph()\n",
    "G.add_edges_from(edge_df.values[:5000])\n",
    "\n",
    "# Convert edge DataFrame values to same type as class_1_nodes\n",
    "edge_df_subset = edge_df.values[:5000]\n",
    "edge_df_subset = [(int(source), int(target)) for source, target in edge_df_subset]\n",
    "\n",
    "# Create subgraph with only class 1 nodes and their edges\n",
    "class_1_edges = [(source, target) for source, target in edge_df_subset \n",
    "                 if source in class_1_nodes and target in class_1_nodes]\n",
    "G_class_1 = nx.Graph()\n",
    "G_class_1.add_edges_from(class_1_edges)\n",
    "\n",
    "# Check if the graph is empty\n",
    "if len(G_class_1.nodes()) == 0:\n",
    "    print(\"No class 1 nodes found in the network or no connections between class 1 nodes.\")\n",
    "else:\n",
    "    # Calculate network metrics for class 1 subgraph\n",
    "    degree_centrality = nx.degree_centrality(G_class_1)\n",
    "    betweenness_centrality = nx.betweenness_centrality(G_class_1)\n",
    "    closeness_centrality = nx.closeness_centrality(G_class_1)\n",
    "\n",
    "    # Plot network metrics using Plotly\n",
    "    fig = make_subplots(rows=1, cols=3, \n",
    "                        subplot_titles=['Degree Centrality (Class 1)', \n",
    "                                      'Betweenness Centrality (Class 1)', \n",
    "                                      'Closeness Centrality (Class 1)'])\n",
    "\n",
    "    fig.add_trace(go.Histogram(x=list(degree_centrality.values()), nbinsx=50), row=1, col=1)\n",
    "    fig.add_trace(go.Histogram(x=list(betweenness_centrality.values()), nbinsx=50), row=1, col=2)\n",
    "    fig.add_trace(go.Histogram(x=list(closeness_centrality.values()), nbinsx=50), row=1, col=3)\n",
    "    fig.update_layout(height=600, width=1200, title_text=\"Network Metrics for Class 1 Nodes\")\n",
    "    fig.show()\n",
    "\n",
    "    # Plot network structure using Plotly\n",
    "    pos = nx.spring_layout(G_class_1)\n",
    "    node_x = [pos[node][0] for node in G_class_1.nodes()]\n",
    "    node_y = [pos[node][1] for node in G_class_1.nodes()]\n",
    "    edge_x = []\n",
    "    edge_y = []\n",
    "\n",
    "    for edge in G_class_1.edges():\n",
    "        source, target = edge\n",
    "        x0, y0 = pos[source]\n",
    "        x1, y1 = pos[target]\n",
    "        edge_x.extend([x0, x1, None])\n",
    "        edge_y.extend([y0, y1, None])\n",
    "\n",
    "    # Create the network visualization\n",
    "    fig = go.Figure(data=[\n",
    "        go.Scatter(x=edge_x, y=edge_y, mode='lines', line_shape='spline', \n",
    "                  opacity=0.5, hoverinfo='none', name='Edges'),\n",
    "        go.Scatter(x=node_x, y=node_y, mode='markers', \n",
    "                  hoverinfo='text', hovertext=[str(node) for node in G_class_1.nodes()],\n",
    "                  marker=dict(size=8, color='red'), name='Nodes')\n",
    "    ])\n",
    "\n",
    "    fig.update_layout(\n",
    "        title='Network Structure - Class 1 Nodes Only',\n",
    "        showlegend=True,\n",
    "        hovermode='closest',\n",
    "        margin=dict(b=20, l=5, r=5, t=40),\n",
    "        xaxis=dict(showgrid=False, zeroline=False, showticklabels=False),\n",
    "        yaxis=dict(showgrid=False, zeroline=False, showticklabels=False)\n",
    "    )\n",
    "    fig.show()\n",
    "\n",
    "    # Print summary statistics\n",
    "    print(f\"Number of Class 1 nodes: {len(G_class_1.nodes())}\")\n",
    "    print(f\"Number of edges between Class 1 nodes: {len(G_class_1.edges())}\")"
   ]
  }
 ],
 "metadata": {
  "kaggle": {
   "accelerator": "none",
   "dataSources": [
    {
     "datasetId": 284040,
     "sourceId": 584717,
     "sourceType": "datasetVersion"
    }
   ],
   "dockerImageVersionId": 30822,
   "isGpuEnabled": false,
   "isInternetEnabled": true,
   "language": "python",
   "sourceType": "notebook"
  },
  "kernelspec": {
   "display_name": "Python 3",
   "language": "python",
   "name": "python3"
  },
  "language_info": {
   "codemirror_mode": {
    "name": "ipython",
    "version": 3
   },
   "file_extension": ".py",
   "mimetype": "text/x-python",
   "name": "python",
   "nbconvert_exporter": "python",
   "pygments_lexer": "ipython3",
   "version": "3.10.6"
  },
  "papermill": {
   "default_parameters": {},
   "duration": 252.901613,
   "end_time": "2025-01-13T19:17:20.011035",
   "environment_variables": {},
   "exception": null,
   "input_path": "__notebook__.ipynb",
   "output_path": "__notebook__.ipynb",
   "parameters": {},
   "start_time": "2025-01-13T19:13:07.109422",
   "version": "2.6.0"
  }
 },
 "nbformat": 4,
 "nbformat_minor": 5
}
